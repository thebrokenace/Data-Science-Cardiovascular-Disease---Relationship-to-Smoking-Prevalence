{
 "cells": [
  {
   "cell_type": "code",
   "execution_count": 48,
   "id": "5018815a-f0d2-45ff-9160-a9af34931f9a",
   "metadata": {},
   "outputs": [],
   "source": [
    "# pip install --upgrade seaborn"
   ]
  },
  {
   "cell_type": "code",
   "execution_count": 49,
   "id": "f63cd5a0-1f99-480a-97ea-f4b1c6c3f3a3",
   "metadata": {},
   "outputs": [],
   "source": [
    "import pandas as pd\n",
    "import numpy as np\n",
    "import matplotlib.pylab as plt\n",
    "import seaborn as sns\n",
    "import statsmodels.api as sm"
   ]
  },
  {
   "cell_type": "code",
   "execution_count": 3,
   "id": "dda0f3b8-5c3e-4e10-88e1-278996d527ef",
   "metadata": {},
   "outputs": [],
   "source": [
    "df = pd.read_csv(\"cardio_train.csv\",sep=';')"
   ]
  },
  {
   "cell_type": "code",
   "execution_count": 4,
   "id": "7fd5ce8d-01bc-4f9f-9599-5763737b0c16",
   "metadata": {},
   "outputs": [
    {
     "data": {
      "text/html": [
       "<div>\n",
       "<style scoped>\n",
       "    .dataframe tbody tr th:only-of-type {\n",
       "        vertical-align: middle;\n",
       "    }\n",
       "\n",
       "    .dataframe tbody tr th {\n",
       "        vertical-align: top;\n",
       "    }\n",
       "\n",
       "    .dataframe thead th {\n",
       "        text-align: right;\n",
       "    }\n",
       "</style>\n",
       "<table border=\"1\" class=\"dataframe\">\n",
       "  <thead>\n",
       "    <tr style=\"text-align: right;\">\n",
       "      <th></th>\n",
       "      <th>id</th>\n",
       "      <th>age</th>\n",
       "      <th>gender</th>\n",
       "      <th>height</th>\n",
       "      <th>weight</th>\n",
       "      <th>ap_hi</th>\n",
       "      <th>ap_lo</th>\n",
       "      <th>cholesterol</th>\n",
       "      <th>gluc</th>\n",
       "      <th>smoke</th>\n",
       "      <th>alco</th>\n",
       "      <th>active</th>\n",
       "      <th>cardio</th>\n",
       "    </tr>\n",
       "  </thead>\n",
       "  <tbody>\n",
       "    <tr>\n",
       "      <th>0</th>\n",
       "      <td>0</td>\n",
       "      <td>18393</td>\n",
       "      <td>2</td>\n",
       "      <td>168</td>\n",
       "      <td>62.0</td>\n",
       "      <td>110</td>\n",
       "      <td>80</td>\n",
       "      <td>1</td>\n",
       "      <td>1</td>\n",
       "      <td>0</td>\n",
       "      <td>0</td>\n",
       "      <td>1</td>\n",
       "      <td>0</td>\n",
       "    </tr>\n",
       "    <tr>\n",
       "      <th>1</th>\n",
       "      <td>1</td>\n",
       "      <td>20228</td>\n",
       "      <td>1</td>\n",
       "      <td>156</td>\n",
       "      <td>85.0</td>\n",
       "      <td>140</td>\n",
       "      <td>90</td>\n",
       "      <td>3</td>\n",
       "      <td>1</td>\n",
       "      <td>0</td>\n",
       "      <td>0</td>\n",
       "      <td>1</td>\n",
       "      <td>1</td>\n",
       "    </tr>\n",
       "    <tr>\n",
       "      <th>2</th>\n",
       "      <td>2</td>\n",
       "      <td>18857</td>\n",
       "      <td>1</td>\n",
       "      <td>165</td>\n",
       "      <td>64.0</td>\n",
       "      <td>130</td>\n",
       "      <td>70</td>\n",
       "      <td>3</td>\n",
       "      <td>1</td>\n",
       "      <td>0</td>\n",
       "      <td>0</td>\n",
       "      <td>0</td>\n",
       "      <td>1</td>\n",
       "    </tr>\n",
       "    <tr>\n",
       "      <th>3</th>\n",
       "      <td>3</td>\n",
       "      <td>17623</td>\n",
       "      <td>2</td>\n",
       "      <td>169</td>\n",
       "      <td>82.0</td>\n",
       "      <td>150</td>\n",
       "      <td>100</td>\n",
       "      <td>1</td>\n",
       "      <td>1</td>\n",
       "      <td>0</td>\n",
       "      <td>0</td>\n",
       "      <td>1</td>\n",
       "      <td>1</td>\n",
       "    </tr>\n",
       "    <tr>\n",
       "      <th>4</th>\n",
       "      <td>4</td>\n",
       "      <td>17474</td>\n",
       "      <td>1</td>\n",
       "      <td>156</td>\n",
       "      <td>56.0</td>\n",
       "      <td>100</td>\n",
       "      <td>60</td>\n",
       "      <td>1</td>\n",
       "      <td>1</td>\n",
       "      <td>0</td>\n",
       "      <td>0</td>\n",
       "      <td>0</td>\n",
       "      <td>0</td>\n",
       "    </tr>\n",
       "  </tbody>\n",
       "</table>\n",
       "</div>"
      ],
      "text/plain": [
       "   id    age  gender  height  weight  ap_hi  ap_lo  cholesterol  gluc  smoke  \\\n",
       "0   0  18393       2     168    62.0    110     80            1     1      0   \n",
       "1   1  20228       1     156    85.0    140     90            3     1      0   \n",
       "2   2  18857       1     165    64.0    130     70            3     1      0   \n",
       "3   3  17623       2     169    82.0    150    100            1     1      0   \n",
       "4   4  17474       1     156    56.0    100     60            1     1      0   \n",
       "\n",
       "   alco  active  cardio  \n",
       "0     0       1       0  \n",
       "1     0       1       1  \n",
       "2     0       0       1  \n",
       "3     0       1       1  \n",
       "4     0       0       0  "
      ]
     },
     "execution_count": 4,
     "metadata": {},
     "output_type": "execute_result"
    }
   ],
   "source": [
    "df.head()"
   ]
  },
  {
   "cell_type": "code",
   "execution_count": 5,
   "id": "eb202162-3b2f-49e0-bff4-91990dc8d00d",
   "metadata": {},
   "outputs": [
    {
     "data": {
      "text/plain": [
       "(70000, 13)"
      ]
     },
     "execution_count": 5,
     "metadata": {},
     "output_type": "execute_result"
    }
   ],
   "source": [
    "df.shape"
   ]
  },
  {
   "cell_type": "code",
   "execution_count": 6,
   "id": "5e3882ff-3444-401a-a945-f84ede145033",
   "metadata": {},
   "outputs": [
    {
     "data": {
      "text/plain": [
       "id             0\n",
       "age            0\n",
       "gender         0\n",
       "height         0\n",
       "weight         0\n",
       "ap_hi          0\n",
       "ap_lo          0\n",
       "cholesterol    0\n",
       "gluc           0\n",
       "smoke          0\n",
       "alco           0\n",
       "active         0\n",
       "cardio         0\n",
       "dtype: int64"
      ]
     },
     "execution_count": 6,
     "metadata": {},
     "output_type": "execute_result"
    }
   ],
   "source": [
    "na_values = df.isna().sum()    # Check if there is any NA values\n",
    "na_values"
   ]
  },
  {
   "cell_type": "code",
   "execution_count": 7,
   "id": "03a6b211-04a5-453e-b754-ac0b119b1b5e",
   "metadata": {},
   "outputs": [
    {
     "name": "stdout",
     "output_type": "stream",
     "text": [
      "<class 'pandas.core.frame.DataFrame'>\n",
      "RangeIndex: 70000 entries, 0 to 69999\n",
      "Data columns (total 13 columns):\n",
      " #   Column       Non-Null Count  Dtype  \n",
      "---  ------       --------------  -----  \n",
      " 0   id           70000 non-null  int64  \n",
      " 1   age          70000 non-null  int64  \n",
      " 2   gender       70000 non-null  int64  \n",
      " 3   height       70000 non-null  int64  \n",
      " 4   weight       70000 non-null  float64\n",
      " 5   ap_hi        70000 non-null  int64  \n",
      " 6   ap_lo        70000 non-null  int64  \n",
      " 7   cholesterol  70000 non-null  int64  \n",
      " 8   gluc         70000 non-null  int64  \n",
      " 9   smoke        70000 non-null  int64  \n",
      " 10  alco         70000 non-null  int64  \n",
      " 11  active       70000 non-null  int64  \n",
      " 12  cardio       70000 non-null  int64  \n",
      "dtypes: float64(1), int64(12)\n",
      "memory usage: 6.9 MB\n"
     ]
    }
   ],
   "source": [
    "df.info()"
   ]
  },
  {
   "cell_type": "code",
   "execution_count": 8,
   "id": "1c82ad79-d05e-4ca4-9a0b-9bfab9d3e0e6",
   "metadata": {},
   "outputs": [
    {
     "data": {
      "text/html": [
       "<div>\n",
       "<style scoped>\n",
       "    .dataframe tbody tr th:only-of-type {\n",
       "        vertical-align: middle;\n",
       "    }\n",
       "\n",
       "    .dataframe tbody tr th {\n",
       "        vertical-align: top;\n",
       "    }\n",
       "\n",
       "    .dataframe thead th {\n",
       "        text-align: right;\n",
       "    }\n",
       "</style>\n",
       "<table border=\"1\" class=\"dataframe\">\n",
       "  <thead>\n",
       "    <tr style=\"text-align: right;\">\n",
       "      <th></th>\n",
       "      <th>id</th>\n",
       "      <th>age</th>\n",
       "      <th>gender</th>\n",
       "      <th>height</th>\n",
       "      <th>weight</th>\n",
       "      <th>ap_hi</th>\n",
       "      <th>ap_lo</th>\n",
       "      <th>cholesterol</th>\n",
       "      <th>gluc</th>\n",
       "      <th>smoke</th>\n",
       "      <th>alco</th>\n",
       "      <th>active</th>\n",
       "      <th>cardio</th>\n",
       "    </tr>\n",
       "  </thead>\n",
       "  <tbody>\n",
       "    <tr>\n",
       "      <th>count</th>\n",
       "      <td>70000.000000</td>\n",
       "      <td>70000.000000</td>\n",
       "      <td>70000.000000</td>\n",
       "      <td>70000.000000</td>\n",
       "      <td>70000.000000</td>\n",
       "      <td>70000.000000</td>\n",
       "      <td>70000.000000</td>\n",
       "      <td>70000.000000</td>\n",
       "      <td>70000.000000</td>\n",
       "      <td>70000.000000</td>\n",
       "      <td>70000.000000</td>\n",
       "      <td>70000.000000</td>\n",
       "      <td>70000.000000</td>\n",
       "    </tr>\n",
       "    <tr>\n",
       "      <th>mean</th>\n",
       "      <td>49972.419900</td>\n",
       "      <td>19468.865814</td>\n",
       "      <td>1.349571</td>\n",
       "      <td>164.359229</td>\n",
       "      <td>74.205690</td>\n",
       "      <td>128.817286</td>\n",
       "      <td>96.630414</td>\n",
       "      <td>1.366871</td>\n",
       "      <td>1.226457</td>\n",
       "      <td>0.088129</td>\n",
       "      <td>0.053771</td>\n",
       "      <td>0.803729</td>\n",
       "      <td>0.499700</td>\n",
       "    </tr>\n",
       "    <tr>\n",
       "      <th>std</th>\n",
       "      <td>28851.302323</td>\n",
       "      <td>2467.251667</td>\n",
       "      <td>0.476838</td>\n",
       "      <td>8.210126</td>\n",
       "      <td>14.395757</td>\n",
       "      <td>154.011419</td>\n",
       "      <td>188.472530</td>\n",
       "      <td>0.680250</td>\n",
       "      <td>0.572270</td>\n",
       "      <td>0.283484</td>\n",
       "      <td>0.225568</td>\n",
       "      <td>0.397179</td>\n",
       "      <td>0.500003</td>\n",
       "    </tr>\n",
       "    <tr>\n",
       "      <th>min</th>\n",
       "      <td>0.000000</td>\n",
       "      <td>10798.000000</td>\n",
       "      <td>1.000000</td>\n",
       "      <td>55.000000</td>\n",
       "      <td>10.000000</td>\n",
       "      <td>-150.000000</td>\n",
       "      <td>-70.000000</td>\n",
       "      <td>1.000000</td>\n",
       "      <td>1.000000</td>\n",
       "      <td>0.000000</td>\n",
       "      <td>0.000000</td>\n",
       "      <td>0.000000</td>\n",
       "      <td>0.000000</td>\n",
       "    </tr>\n",
       "    <tr>\n",
       "      <th>25%</th>\n",
       "      <td>25006.750000</td>\n",
       "      <td>17664.000000</td>\n",
       "      <td>1.000000</td>\n",
       "      <td>159.000000</td>\n",
       "      <td>65.000000</td>\n",
       "      <td>120.000000</td>\n",
       "      <td>80.000000</td>\n",
       "      <td>1.000000</td>\n",
       "      <td>1.000000</td>\n",
       "      <td>0.000000</td>\n",
       "      <td>0.000000</td>\n",
       "      <td>1.000000</td>\n",
       "      <td>0.000000</td>\n",
       "    </tr>\n",
       "    <tr>\n",
       "      <th>50%</th>\n",
       "      <td>50001.500000</td>\n",
       "      <td>19703.000000</td>\n",
       "      <td>1.000000</td>\n",
       "      <td>165.000000</td>\n",
       "      <td>72.000000</td>\n",
       "      <td>120.000000</td>\n",
       "      <td>80.000000</td>\n",
       "      <td>1.000000</td>\n",
       "      <td>1.000000</td>\n",
       "      <td>0.000000</td>\n",
       "      <td>0.000000</td>\n",
       "      <td>1.000000</td>\n",
       "      <td>0.000000</td>\n",
       "    </tr>\n",
       "    <tr>\n",
       "      <th>75%</th>\n",
       "      <td>74889.250000</td>\n",
       "      <td>21327.000000</td>\n",
       "      <td>2.000000</td>\n",
       "      <td>170.000000</td>\n",
       "      <td>82.000000</td>\n",
       "      <td>140.000000</td>\n",
       "      <td>90.000000</td>\n",
       "      <td>2.000000</td>\n",
       "      <td>1.000000</td>\n",
       "      <td>0.000000</td>\n",
       "      <td>0.000000</td>\n",
       "      <td>1.000000</td>\n",
       "      <td>1.000000</td>\n",
       "    </tr>\n",
       "    <tr>\n",
       "      <th>max</th>\n",
       "      <td>99999.000000</td>\n",
       "      <td>23713.000000</td>\n",
       "      <td>2.000000</td>\n",
       "      <td>250.000000</td>\n",
       "      <td>200.000000</td>\n",
       "      <td>16020.000000</td>\n",
       "      <td>11000.000000</td>\n",
       "      <td>3.000000</td>\n",
       "      <td>3.000000</td>\n",
       "      <td>1.000000</td>\n",
       "      <td>1.000000</td>\n",
       "      <td>1.000000</td>\n",
       "      <td>1.000000</td>\n",
       "    </tr>\n",
       "  </tbody>\n",
       "</table>\n",
       "</div>"
      ],
      "text/plain": [
       "                 id           age        gender        height        weight  \\\n",
       "count  70000.000000  70000.000000  70000.000000  70000.000000  70000.000000   \n",
       "mean   49972.419900  19468.865814      1.349571    164.359229     74.205690   \n",
       "std    28851.302323   2467.251667      0.476838      8.210126     14.395757   \n",
       "min        0.000000  10798.000000      1.000000     55.000000     10.000000   \n",
       "25%    25006.750000  17664.000000      1.000000    159.000000     65.000000   \n",
       "50%    50001.500000  19703.000000      1.000000    165.000000     72.000000   \n",
       "75%    74889.250000  21327.000000      2.000000    170.000000     82.000000   \n",
       "max    99999.000000  23713.000000      2.000000    250.000000    200.000000   \n",
       "\n",
       "              ap_hi         ap_lo   cholesterol          gluc         smoke  \\\n",
       "count  70000.000000  70000.000000  70000.000000  70000.000000  70000.000000   \n",
       "mean     128.817286     96.630414      1.366871      1.226457      0.088129   \n",
       "std      154.011419    188.472530      0.680250      0.572270      0.283484   \n",
       "min     -150.000000    -70.000000      1.000000      1.000000      0.000000   \n",
       "25%      120.000000     80.000000      1.000000      1.000000      0.000000   \n",
       "50%      120.000000     80.000000      1.000000      1.000000      0.000000   \n",
       "75%      140.000000     90.000000      2.000000      1.000000      0.000000   \n",
       "max    16020.000000  11000.000000      3.000000      3.000000      1.000000   \n",
       "\n",
       "               alco        active        cardio  \n",
       "count  70000.000000  70000.000000  70000.000000  \n",
       "mean       0.053771      0.803729      0.499700  \n",
       "std        0.225568      0.397179      0.500003  \n",
       "min        0.000000      0.000000      0.000000  \n",
       "25%        0.000000      1.000000      0.000000  \n",
       "50%        0.000000      1.000000      0.000000  \n",
       "75%        0.000000      1.000000      1.000000  \n",
       "max        1.000000      1.000000      1.000000  "
      ]
     },
     "execution_count": 8,
     "metadata": {},
     "output_type": "execute_result"
    }
   ],
   "source": [
    "df.describe()"
   ]
  },
  {
   "cell_type": "markdown",
   "id": "4338729c-536d-4132-a50a-9ed2076f1409",
   "metadata": {},
   "source": [
    "There are 70000 columns of data, contain with 13 features included,id,age,gender, height, weight, ap_hi, ap_lo, cholesterol, gluc, smoke, alco, active, cardio."
   ]
  },
  {
   "cell_type": "markdown",
   "id": "55834fca-8e45-42e0-9e16-a360e39b6068",
   "metadata": {},
   "source": [
    "Understand Columns:\n",
    "\n",
    "1. Id: ID numbers, each person will have unique id numbers in this dataset\n",
    "2. Age: a person age in days\n",
    "3. Gender: 1-women, 2-men\n",
    "4. Height: a person height in Centimeter(cm)\n",
    "5. Weight: a person weight in Kilogramskg)\n",
    "6. Ap-hi:  Systolic (High) blood pressure\n",
    "7. Ap-lo:  Diastolic (Low) blood pressure\n",
    "8. Cholesterol: 1: normal, 2: above normal, 3: well above normal\n",
    "9. Gluc:   1: normal, 2: above normal, 3: well above normal\n",
    "10. Smoke: 1 Yes, 0 No\n",
    "11. Alco:  Alcohol intake  1 Yes, 0 No\n",
    "12. Active:Physical activity \n",
    "13. Cardio: 1 Yes Carido, 0 No Carido\n"
   ]
  },
  {
   "cell_type": "markdown",
   "id": "644fef96-1f02-4657-9818-880e9f9b2f11",
   "metadata": {},
   "source": [
    "# EDA Process"
   ]
  },
  {
   "cell_type": "markdown",
   "id": "5bbb46e9-b8fc-404a-97cd-41402388d74b",
   "metadata": {},
   "source": [
    "### Let first convert age in year to better understand the CVD(Cardiovascular Disease) distributions in Age"
   ]
  },
  {
   "cell_type": "code",
   "execution_count": 9,
   "id": "19073e98-7fe4-4663-87f4-f4fc230e1af3",
   "metadata": {},
   "outputs": [],
   "source": [
    "df['age'] = df['age'].div(365).round(0).astype(int)"
   ]
  },
  {
   "cell_type": "code",
   "execution_count": 10,
   "id": "a7f17bce-d9e6-420f-a038-62e3a3a6cdde",
   "metadata": {},
   "outputs": [
    {
     "data": {
      "text/html": [
       "<div>\n",
       "<style scoped>\n",
       "    .dataframe tbody tr th:only-of-type {\n",
       "        vertical-align: middle;\n",
       "    }\n",
       "\n",
       "    .dataframe tbody tr th {\n",
       "        vertical-align: top;\n",
       "    }\n",
       "\n",
       "    .dataframe thead th {\n",
       "        text-align: right;\n",
       "    }\n",
       "</style>\n",
       "<table border=\"1\" class=\"dataframe\">\n",
       "  <thead>\n",
       "    <tr style=\"text-align: right;\">\n",
       "      <th></th>\n",
       "      <th>id</th>\n",
       "      <th>age</th>\n",
       "      <th>gender</th>\n",
       "      <th>height</th>\n",
       "      <th>weight</th>\n",
       "      <th>ap_hi</th>\n",
       "      <th>ap_lo</th>\n",
       "      <th>cholesterol</th>\n",
       "      <th>gluc</th>\n",
       "      <th>smoke</th>\n",
       "      <th>alco</th>\n",
       "      <th>active</th>\n",
       "      <th>cardio</th>\n",
       "    </tr>\n",
       "  </thead>\n",
       "  <tbody>\n",
       "    <tr>\n",
       "      <th>0</th>\n",
       "      <td>0</td>\n",
       "      <td>50</td>\n",
       "      <td>2</td>\n",
       "      <td>168</td>\n",
       "      <td>62.0</td>\n",
       "      <td>110</td>\n",
       "      <td>80</td>\n",
       "      <td>1</td>\n",
       "      <td>1</td>\n",
       "      <td>0</td>\n",
       "      <td>0</td>\n",
       "      <td>1</td>\n",
       "      <td>0</td>\n",
       "    </tr>\n",
       "    <tr>\n",
       "      <th>1</th>\n",
       "      <td>1</td>\n",
       "      <td>55</td>\n",
       "      <td>1</td>\n",
       "      <td>156</td>\n",
       "      <td>85.0</td>\n",
       "      <td>140</td>\n",
       "      <td>90</td>\n",
       "      <td>3</td>\n",
       "      <td>1</td>\n",
       "      <td>0</td>\n",
       "      <td>0</td>\n",
       "      <td>1</td>\n",
       "      <td>1</td>\n",
       "    </tr>\n",
       "    <tr>\n",
       "      <th>2</th>\n",
       "      <td>2</td>\n",
       "      <td>52</td>\n",
       "      <td>1</td>\n",
       "      <td>165</td>\n",
       "      <td>64.0</td>\n",
       "      <td>130</td>\n",
       "      <td>70</td>\n",
       "      <td>3</td>\n",
       "      <td>1</td>\n",
       "      <td>0</td>\n",
       "      <td>0</td>\n",
       "      <td>0</td>\n",
       "      <td>1</td>\n",
       "    </tr>\n",
       "    <tr>\n",
       "      <th>3</th>\n",
       "      <td>3</td>\n",
       "      <td>48</td>\n",
       "      <td>2</td>\n",
       "      <td>169</td>\n",
       "      <td>82.0</td>\n",
       "      <td>150</td>\n",
       "      <td>100</td>\n",
       "      <td>1</td>\n",
       "      <td>1</td>\n",
       "      <td>0</td>\n",
       "      <td>0</td>\n",
       "      <td>1</td>\n",
       "      <td>1</td>\n",
       "    </tr>\n",
       "    <tr>\n",
       "      <th>4</th>\n",
       "      <td>4</td>\n",
       "      <td>48</td>\n",
       "      <td>1</td>\n",
       "      <td>156</td>\n",
       "      <td>56.0</td>\n",
       "      <td>100</td>\n",
       "      <td>60</td>\n",
       "      <td>1</td>\n",
       "      <td>1</td>\n",
       "      <td>0</td>\n",
       "      <td>0</td>\n",
       "      <td>0</td>\n",
       "      <td>0</td>\n",
       "    </tr>\n",
       "  </tbody>\n",
       "</table>\n",
       "</div>"
      ],
      "text/plain": [
       "   id  age  gender  height  weight  ap_hi  ap_lo  cholesterol  gluc  smoke  \\\n",
       "0   0   50       2     168    62.0    110     80            1     1      0   \n",
       "1   1   55       1     156    85.0    140     90            3     1      0   \n",
       "2   2   52       1     165    64.0    130     70            3     1      0   \n",
       "3   3   48       2     169    82.0    150    100            1     1      0   \n",
       "4   4   48       1     156    56.0    100     60            1     1      0   \n",
       "\n",
       "   alco  active  cardio  \n",
       "0     0       1       0  \n",
       "1     0       1       1  \n",
       "2     0       0       1  \n",
       "3     0       1       1  \n",
       "4     0       0       0  "
      ]
     },
     "execution_count": 10,
     "metadata": {},
     "output_type": "execute_result"
    }
   ],
   "source": [
    "df.head()"
   ]
  },
  {
   "cell_type": "code",
   "execution_count": 11,
   "id": "2227cdd7-7f18-440d-87ee-fd45ff4d1ff2",
   "metadata": {},
   "outputs": [
    {
     "data": {
      "text/plain": [
       "30"
      ]
     },
     "execution_count": 11,
     "metadata": {},
     "output_type": "execute_result"
    }
   ],
   "source": [
    "min(df[\"age\"])  # The minimal age in this dataset is 30 years old"
   ]
  },
  {
   "cell_type": "code",
   "execution_count": 12,
   "id": "a571f0a5-8ac6-48c6-9242-e82f7d5bb58a",
   "metadata": {},
   "outputs": [
    {
     "data": {
      "text/plain": [
       "65"
      ]
     },
     "execution_count": 12,
     "metadata": {},
     "output_type": "execute_result"
    }
   ],
   "source": [
    "max(df[\"age\"])  # The maxinum age in this dataset is 30 years old"
   ]
  },
  {
   "cell_type": "markdown",
   "id": "75e5ac1e-dda8-461d-9980-65b49fb31fc3",
   "metadata": {},
   "source": [
    "## Visualization"
   ]
  },
  {
   "cell_type": "code",
   "execution_count": 13,
   "id": "ebbe9180-2ee0-4446-897c-b52d4961315a",
   "metadata": {},
   "outputs": [
    {
     "data": {
      "image/png": "[encoded data removed]",
      "text/plain": [
       "<Figure size 640x480 with 1 Axes>"
      ]
     },
     "metadata": {},
     "output_type": "display_data"
    }
   ],
   "source": [
    "# Plotting the histogram for age distribution for each cardio category\n",
    "\n",
    "# Histogram for individuals without cardiovascular issues\n",
    "plt.hist(df[df['cardio'] == 0]['age'], bins=np.arange(35, 70), alpha=1, label='No Cardiovascular Issue')\n",
    "\n",
    "# Histogram for individuals with cardiovascular issues\n",
    "plt.hist(df[df['cardio'] == 1]['age'], bins=np.arange(35, 70), alpha=1, label='Cardiovascular Issue')\n",
    "\n",
    "# Setting the title and labels\n",
    "plt.title('Age Distribution by Cardiovascular Issue Status')\n",
    "plt.xlabel('Age (Years)')\n",
    "plt.ylabel('Total Number of Presence of CVD')\n",
    "plt.legend()\n",
    "plt.show()"
   ]
  },
  {
   "cell_type": "markdown",
   "id": "048751c7-9e41-4a61-b6f5-73b5f0bed799",
   "metadata": {},
   "source": [
    "The histogram shows the relationship between age and the presence of cardiovascular disease (CVD) in the dataset, indicating that CVD becomes more prevalent with age get older. The 35-40 age group has a low number with CVD. As age increases, the 55-60 age group has the highest total number of people with CVD. The number of people with CVD is higher in the older age groups than in the older age groups.The number of people with CVD is higher in the older age groups than in the older age groups. This trend suggests that there is a clear correlation between increasing age and the occurrence of cardiovascular problems, with the oldest age group having the highest incidence of cardiovascular disease. The distribution is not homogeneous, reflecting the fact that the incidence of cardiovascular disease varies by age, but is clearly skewed towards the older age groups."
   ]
  },
  {
   "cell_type": "code",
   "execution_count": 14,
   "id": "2f5c6154-7466-4be9-8e88-c5b80e5dda04",
   "metadata": {},
   "outputs": [
    {
     "data": {
      "image/png": "[encoded data removed]",
      "text/plain": [
       "<Figure size 800x600 with 1 Axes>"
      ]
     },
     "metadata": {},
     "output_type": "display_data"
    }
   ],
   "source": [
    "# Density plots for the distribution of age for each cardiovascular issue status\n",
    "plt.figure(figsize=(8, 6))\n",
    "        \n",
    "# Density Plot for individuals without cardiovascular issues\n",
    "sns.kdeplot(df[df['cardio'] == 0]['age'], fill=True, label='No Cardiovascular Issue')\n",
    "\n",
    "# Density Plot for individuals with cardiovascular issues\n",
    "sns.kdeplot(df[df['cardio'] == 1]['age'], fill=True, label='Cardiovascular Issue')\n",
    "        \n",
    "# Setting the title and labels\n",
    "plt.title('Age Density Distribution by Cardiovascular Issue Status')\n",
    "plt.xlabel('Age (Years)')\n",
    "plt.ylabel('Density')\n",
    "plt.legend()\n",
    "        \n",
    "# Show plot\n",
    "plt.tight_layout()\n",
    "plt.show()"
   ]
  },
  {
   "cell_type": "markdown",
   "id": "80b6db4d-6840-44a1-8662-13009b0a6e46",
   "metadata": {},
   "source": [
    "The density plot contrasts age distributions for individuals with and without cardiovascular disease (CVD). Younger ages have a higher prevalence of CVD-free individuals, while older ages show a higher prevalence of those with CVD. The plot reveals a crossover point in the mid-40s where the likelihood of CVD increases with age, indicating a clear age-related trend in CVD occurrence."
   ]
  },
  {
   "cell_type": "markdown",
   "id": "62a2f423-e1b0-4d28-a2ef-656e7bf73fd2",
   "metadata": {},
   "source": [
    "## Let See BMI ( Body Mass Index) and CVD relation."
   ]
  },
  {
   "cell_type": "markdown",
   "id": "03696898-7437-4910-9136-edf72815116f",
   "metadata": {},
   "source": [
    "\\begin{align}\n",
    "BMI = \\frac{\\text{weight in kilograms}}{(\\text{height in meters})^2}\n",
    "\\end{align}"
   ]
  },
  {
   "cell_type": "markdown",
   "id": "b670a323-afb4-4bc6-97c2-77f64518a4e1",
   "metadata": {},
   "source": [
    "#### Calculate the BMI"
   ]
  },
  {
   "cell_type": "code",
   "execution_count": 15,
   "id": "889d3074-e1c4-4ab6-9c65-5ca2db7fcac2",
   "metadata": {},
   "outputs": [],
   "source": [
    "df['BMI'] = df['weight'] / ((df['height'] / 100) ** 2)"
   ]
  },
  {
   "cell_type": "code",
   "execution_count": 16,
   "id": "69d388ac-57cf-403b-b797-8cf6c29d8cad",
   "metadata": {},
   "outputs": [
    {
     "data": {
      "text/html": [
       "<div>\n",
       "<style scoped>\n",
       "    .dataframe tbody tr th:only-of-type {\n",
       "        vertical-align: middle;\n",
       "    }\n",
       "\n",
       "    .dataframe tbody tr th {\n",
       "        vertical-align: top;\n",
       "    }\n",
       "\n",
       "    .dataframe thead th {\n",
       "        text-align: right;\n",
       "    }\n",
       "</style>\n",
       "<table border=\"1\" class=\"dataframe\">\n",
       "  <thead>\n",
       "    <tr style=\"text-align: right;\">\n",
       "      <th></th>\n",
       "      <th>id</th>\n",
       "      <th>age</th>\n",
       "      <th>gender</th>\n",
       "      <th>height</th>\n",
       "      <th>weight</th>\n",
       "      <th>ap_hi</th>\n",
       "      <th>ap_lo</th>\n",
       "      <th>cholesterol</th>\n",
       "      <th>gluc</th>\n",
       "      <th>smoke</th>\n",
       "      <th>alco</th>\n",
       "      <th>active</th>\n",
       "      <th>cardio</th>\n",
       "      <th>BMI</th>\n",
       "    </tr>\n",
       "  </thead>\n",
       "  <tbody>\n",
       "    <tr>\n",
       "      <th>0</th>\n",
       "      <td>0</td>\n",
       "      <td>50</td>\n",
       "      <td>2</td>\n",
       "      <td>168</td>\n",
       "      <td>62.0</td>\n",
       "      <td>110</td>\n",
       "      <td>80</td>\n",
       "      <td>1</td>\n",
       "      <td>1</td>\n",
       "      <td>0</td>\n",
       "      <td>0</td>\n",
       "      <td>1</td>\n",
       "      <td>0</td>\n",
       "      <td>21.967120</td>\n",
       "    </tr>\n",
       "    <tr>\n",
       "      <th>1</th>\n",
       "      <td>1</td>\n",
       "      <td>55</td>\n",
       "      <td>1</td>\n",
       "      <td>156</td>\n",
       "      <td>85.0</td>\n",
       "      <td>140</td>\n",
       "      <td>90</td>\n",
       "      <td>3</td>\n",
       "      <td>1</td>\n",
       "      <td>0</td>\n",
       "      <td>0</td>\n",
       "      <td>1</td>\n",
       "      <td>1</td>\n",
       "      <td>34.927679</td>\n",
       "    </tr>\n",
       "    <tr>\n",
       "      <th>2</th>\n",
       "      <td>2</td>\n",
       "      <td>52</td>\n",
       "      <td>1</td>\n",
       "      <td>165</td>\n",
       "      <td>64.0</td>\n",
       "      <td>130</td>\n",
       "      <td>70</td>\n",
       "      <td>3</td>\n",
       "      <td>1</td>\n",
       "      <td>0</td>\n",
       "      <td>0</td>\n",
       "      <td>0</td>\n",
       "      <td>1</td>\n",
       "      <td>23.507805</td>\n",
       "    </tr>\n",
       "  </tbody>\n",
       "</table>\n",
       "</div>"
      ],
      "text/plain": [
       "   id  age  gender  height  weight  ap_hi  ap_lo  cholesterol  gluc  smoke  \\\n",
       "0   0   50       2     168    62.0    110     80            1     1      0   \n",
       "1   1   55       1     156    85.0    140     90            3     1      0   \n",
       "2   2   52       1     165    64.0    130     70            3     1      0   \n",
       "\n",
       "   alco  active  cardio        BMI  \n",
       "0     0       1       0  21.967120  \n",
       "1     0       1       1  34.927679  \n",
       "2     0       0       1  23.507805  "
      ]
     },
     "execution_count": 16,
     "metadata": {},
     "output_type": "execute_result"
    }
   ],
   "source": [
    "df.head(3)  # Show the first three row with new add column BMI"
   ]
  },
  {
   "cell_type": "code",
   "execution_count": 17,
   "id": "8c786d32-7a0b-488f-b903-b71190533fa6",
   "metadata": {},
   "outputs": [
    {
     "data": {
      "image/png": "[encoded data removed]",
      "text/plain": [
       "<Figure size 640x480 with 1 Axes>"
      ]
     },
     "metadata": {},
     "output_type": "display_data"
    }
   ],
   "source": [
    "# Plotting the histogram for age distribution for each cardio category\n",
    "\n",
    "# Histogram for individuals without cardiovascular issues\n",
    "plt.hist(df[df['cardio'] == 0]['BMI'], bins=np.arange(10, 50), alpha=0.5, label='No Cardiovascular Issue')\n",
    "\n",
    "# Histogram for individuals with cardiovascular issues\n",
    "plt.hist(df[df['cardio'] == 1]['BMI'], bins=np.arange(10, 50), alpha=0.5, label='Cardiovascular Issue')\n",
    "\n",
    "# Setting the title and labels\n",
    "plt.title('Different BMI & CVD')\n",
    "plt.xlabel('BMI')\n",
    "plt.ylabel('Total Number of Presence of CVD')\n",
    "plt.legend()\n",
    "plt.show()"
   ]
  },
  {
   "cell_type": "markdown",
   "id": "aac76b87-5c24-44a8-b4be-1ab9a113955d",
   "metadata": {},
   "source": [
    "This histogram visualizes the age distribution of the population in relation to cardiovascular problems. One striking pattern is that the age distribution of people with cardiovascular problems tends to favor older groups, peaking in the mid-20s and then tapering off. This pattern showed a significant overlap in the age ranges of the two groups, suggesting that cardiovascular problems are also present in younger age groups, albeit at a lower frequency. The data therefore emphasize the importance of considering age factors in the prevalence and management of cardiovascular health."
   ]
  },
  {
   "cell_type": "markdown",
   "id": "5b1e4882-56d7-462f-ac39-4d8f1475d5fb",
   "metadata": {},
   "source": [
    "### Gender And Smoking "
   ]
  },
  {
   "cell_type": "code",
   "execution_count": 18,
   "id": "a35ccb40-4687-44a5-b49e-8e0b62251308",
   "metadata": {},
   "outputs": [
    {
     "data": {
      "image/png": "[encoded data removed]",
      "text/plain": [
       "<Figure size 1000x600 with 1 Axes>"
      ]
     },
     "metadata": {},
     "output_type": "display_data"
    }
   ],
   "source": [
    "# Normalize the cross-tabulation\n",
    "cross_tab_normalized = pd.crosstab(df['gender'], df['smoke'], normalize='index')\n",
    "\n",
    "# Plotting the normalized stacked bar chart\n",
    "cross_tab_normalized.plot(kind='bar', stacked=True, figsize=(10, 6))\n",
    "\n",
    "# Adding titles and labels\n",
    "plt.title('Normalized Smoking Status by Gender')\n",
    "plt.xlabel('Gender')\n",
    "plt.ylabel('Proportion')\n",
    "plt.xticks(ticks=[0, 1], labels=['Female', 'Male'], rotation=0)\n",
    "plt.legend(title='Smoking Status', labels=['Non-Smoker', 'Smoker'])\n",
    "\n",
    "# Show the plot\n",
    "plt.show()"
   ]
  },
  {
   "cell_type": "markdown",
   "id": "38707980-ffee-417b-a0b8-f9c0d63d223f",
   "metadata": {},
   "source": [
    "The normalized stacked bar chart shows a clear difference in smoking habits between the sexes. It shows that most women and men are non-smokers, but a significantly higher proportion of men smoke. Although non-smokers are in the majority in both genders, orange smokers are significantly more prevalent among males than females. This suggests that smoking is more prevalent among men, highlighting a key area for targeted cessation interventions. This visualization is a clear reminder of the persistent gender differences in tobacco use and the need for gender-specific health policies and programs."
   ]
  },
  {
   "cell_type": "markdown",
   "id": "4cceb1f9-6a52-4b41-93e2-2c4c3cfbe63e",
   "metadata": {},
   "source": [
    "# Models\n",
    "\n",
    "Generalized Linear Models: \n",
    "\n",
    "Four different versions of regression in the Bayesian setting:\n",
    "- Linear regression, for predicting real-valued outputs(see 1 below)\n",
    "- Logistic regression, for predicting binary outputs (classification)(see 3 below)\n",
    "- Poisson regression, for predicting counts\n",
    "- Negative binomial regression, for predicting counts(see 4 below)\n",
    "\n",
    "Nonparametric Methods:\n",
    "- Decision Tree(see 2 below)"
   ]
  },
  {
   "cell_type": "markdown",
   "id": "da39e532-1672-4102-addf-3b25dc93e7cd",
   "metadata": {},
   "source": [
    "# 1. Linear regression"
   ]
  },
  {
   "cell_type": "code",
   "execution_count": 19,
   "id": "8a4d9bfd-7ceb-40b6-be8e-d1b509b0e947",
   "metadata": {},
   "outputs": [
    {
     "data": {
      "text/html": [
       "<div>\n",
       "<style scoped>\n",
       "    .dataframe tbody tr th:only-of-type {\n",
       "        vertical-align: middle;\n",
       "    }\n",
       "\n",
       "    .dataframe tbody tr th {\n",
       "        vertical-align: top;\n",
       "    }\n",
       "\n",
       "    .dataframe thead th {\n",
       "        text-align: right;\n",
       "    }\n",
       "</style>\n",
       "<table border=\"1\" class=\"dataframe\">\n",
       "  <thead>\n",
       "    <tr style=\"text-align: right;\">\n",
       "      <th></th>\n",
       "      <th>id</th>\n",
       "      <th>age</th>\n",
       "      <th>gender</th>\n",
       "      <th>height</th>\n",
       "      <th>weight</th>\n",
       "      <th>ap_hi</th>\n",
       "      <th>ap_lo</th>\n",
       "      <th>cholesterol</th>\n",
       "      <th>gluc</th>\n",
       "      <th>smoke</th>\n",
       "      <th>alco</th>\n",
       "      <th>active</th>\n",
       "      <th>cardio</th>\n",
       "      <th>BMI</th>\n",
       "    </tr>\n",
       "  </thead>\n",
       "  <tbody>\n",
       "    <tr>\n",
       "      <th>0</th>\n",
       "      <td>0</td>\n",
       "      <td>50</td>\n",
       "      <td>2</td>\n",
       "      <td>168</td>\n",
       "      <td>62.0</td>\n",
       "      <td>110</td>\n",
       "      <td>80</td>\n",
       "      <td>1</td>\n",
       "      <td>1</td>\n",
       "      <td>0</td>\n",
       "      <td>0</td>\n",
       "      <td>1</td>\n",
       "      <td>0</td>\n",
       "      <td>21.967120</td>\n",
       "    </tr>\n",
       "    <tr>\n",
       "      <th>1</th>\n",
       "      <td>1</td>\n",
       "      <td>55</td>\n",
       "      <td>1</td>\n",
       "      <td>156</td>\n",
       "      <td>85.0</td>\n",
       "      <td>140</td>\n",
       "      <td>90</td>\n",
       "      <td>3</td>\n",
       "      <td>1</td>\n",
       "      <td>0</td>\n",
       "      <td>0</td>\n",
       "      <td>1</td>\n",
       "      <td>1</td>\n",
       "      <td>34.927679</td>\n",
       "    </tr>\n",
       "    <tr>\n",
       "      <th>2</th>\n",
       "      <td>2</td>\n",
       "      <td>52</td>\n",
       "      <td>1</td>\n",
       "      <td>165</td>\n",
       "      <td>64.0</td>\n",
       "      <td>130</td>\n",
       "      <td>70</td>\n",
       "      <td>3</td>\n",
       "      <td>1</td>\n",
       "      <td>0</td>\n",
       "      <td>0</td>\n",
       "      <td>0</td>\n",
       "      <td>1</td>\n",
       "      <td>23.507805</td>\n",
       "    </tr>\n",
       "    <tr>\n",
       "      <th>3</th>\n",
       "      <td>3</td>\n",
       "      <td>48</td>\n",
       "      <td>2</td>\n",
       "      <td>169</td>\n",
       "      <td>82.0</td>\n",
       "      <td>150</td>\n",
       "      <td>100</td>\n",
       "      <td>1</td>\n",
       "      <td>1</td>\n",
       "      <td>0</td>\n",
       "      <td>0</td>\n",
       "      <td>1</td>\n",
       "      <td>1</td>\n",
       "      <td>28.710479</td>\n",
       "    </tr>\n",
       "    <tr>\n",
       "      <th>4</th>\n",
       "      <td>4</td>\n",
       "      <td>48</td>\n",
       "      <td>1</td>\n",
       "      <td>156</td>\n",
       "      <td>56.0</td>\n",
       "      <td>100</td>\n",
       "      <td>60</td>\n",
       "      <td>1</td>\n",
       "      <td>1</td>\n",
       "      <td>0</td>\n",
       "      <td>0</td>\n",
       "      <td>0</td>\n",
       "      <td>0</td>\n",
       "      <td>23.011177</td>\n",
       "    </tr>\n",
       "    <tr>\n",
       "      <th>...</th>\n",
       "      <td>...</td>\n",
       "      <td>...</td>\n",
       "      <td>...</td>\n",
       "      <td>...</td>\n",
       "      <td>...</td>\n",
       "      <td>...</td>\n",
       "      <td>...</td>\n",
       "      <td>...</td>\n",
       "      <td>...</td>\n",
       "      <td>...</td>\n",
       "      <td>...</td>\n",
       "      <td>...</td>\n",
       "      <td>...</td>\n",
       "      <td>...</td>\n",
       "    </tr>\n",
       "    <tr>\n",
       "      <th>69995</th>\n",
       "      <td>99993</td>\n",
       "      <td>53</td>\n",
       "      <td>2</td>\n",
       "      <td>168</td>\n",
       "      <td>76.0</td>\n",
       "      <td>120</td>\n",
       "      <td>80</td>\n",
       "      <td>1</td>\n",
       "      <td>1</td>\n",
       "      <td>1</td>\n",
       "      <td>0</td>\n",
       "      <td>1</td>\n",
       "      <td>0</td>\n",
       "      <td>26.927438</td>\n",
       "    </tr>\n",
       "    <tr>\n",
       "      <th>69996</th>\n",
       "      <td>99995</td>\n",
       "      <td>62</td>\n",
       "      <td>1</td>\n",
       "      <td>158</td>\n",
       "      <td>126.0</td>\n",
       "      <td>140</td>\n",
       "      <td>90</td>\n",
       "      <td>2</td>\n",
       "      <td>2</td>\n",
       "      <td>0</td>\n",
       "      <td>0</td>\n",
       "      <td>1</td>\n",
       "      <td>1</td>\n",
       "      <td>50.472681</td>\n",
       "    </tr>\n",
       "    <tr>\n",
       "      <th>69997</th>\n",
       "      <td>99996</td>\n",
       "      <td>52</td>\n",
       "      <td>2</td>\n",
       "      <td>183</td>\n",
       "      <td>105.0</td>\n",
       "      <td>180</td>\n",
       "      <td>90</td>\n",
       "      <td>3</td>\n",
       "      <td>1</td>\n",
       "      <td>0</td>\n",
       "      <td>1</td>\n",
       "      <td>0</td>\n",
       "      <td>1</td>\n",
       "      <td>31.353579</td>\n",
       "    </tr>\n",
       "    <tr>\n",
       "      <th>69998</th>\n",
       "      <td>99998</td>\n",
       "      <td>61</td>\n",
       "      <td>1</td>\n",
       "      <td>163</td>\n",
       "      <td>72.0</td>\n",
       "      <td>135</td>\n",
       "      <td>80</td>\n",
       "      <td>1</td>\n",
       "      <td>2</td>\n",
       "      <td>0</td>\n",
       "      <td>0</td>\n",
       "      <td>0</td>\n",
       "      <td>1</td>\n",
       "      <td>27.099251</td>\n",
       "    </tr>\n",
       "    <tr>\n",
       "      <th>69999</th>\n",
       "      <td>99999</td>\n",
       "      <td>56</td>\n",
       "      <td>1</td>\n",
       "      <td>170</td>\n",
       "      <td>72.0</td>\n",
       "      <td>120</td>\n",
       "      <td>80</td>\n",
       "      <td>2</td>\n",
       "      <td>1</td>\n",
       "      <td>0</td>\n",
       "      <td>0</td>\n",
       "      <td>1</td>\n",
       "      <td>0</td>\n",
       "      <td>24.913495</td>\n",
       "    </tr>\n",
       "  </tbody>\n",
       "</table>\n",
       "<p>70000 rows × 14 columns</p>\n",
       "</div>"
      ],
      "text/plain": [
       "          id  age  gender  height  weight  ap_hi  ap_lo  cholesterol  gluc  \\\n",
       "0          0   50       2     168    62.0    110     80            1     1   \n",
       "1          1   55       1     156    85.0    140     90            3     1   \n",
       "2          2   52       1     165    64.0    130     70            3     1   \n",
       "3          3   48       2     169    82.0    150    100            1     1   \n",
       "4          4   48       1     156    56.0    100     60            1     1   \n",
       "...      ...  ...     ...     ...     ...    ...    ...          ...   ...   \n",
       "69995  99993   53       2     168    76.0    120     80            1     1   \n",
       "69996  99995   62       1     158   126.0    140     90            2     2   \n",
       "69997  99996   52       2     183   105.0    180     90            3     1   \n",
       "69998  99998   61       1     163    72.0    135     80            1     2   \n",
       "69999  99999   56       1     170    72.0    120     80            2     1   \n",
       "\n",
       "       smoke  alco  active  cardio        BMI  \n",
       "0          0     0       1       0  21.967120  \n",
       "1          0     0       1       1  34.927679  \n",
       "2          0     0       0       1  23.507805  \n",
       "3          0     0       1       1  28.710479  \n",
       "4          0     0       0       0  23.011177  \n",
       "...      ...   ...     ...     ...        ...  \n",
       "69995      1     0       1       0  26.927438  \n",
       "69996      0     0       1       1  50.472681  \n",
       "69997      0     1       0       1  31.353579  \n",
       "69998      0     0       0       1  27.099251  \n",
       "69999      0     0       1       0  24.913495  \n",
       "\n",
       "[70000 rows x 14 columns]"
      ]
     },
     "execution_count": 19,
     "metadata": {},
     "output_type": "execute_result"
    }
   ],
   "source": [
    "df"
   ]
  },
  {
   "cell_type": "code",
   "execution_count": 20,
   "id": "8eb9de25-d7b2-4b2f-b1eb-8642efc38309",
   "metadata": {},
   "outputs": [],
   "source": [
    "X_cols = [\"age\", \"gender\", \"BMI\", \"ap_hi\", \"gluc\", \"smoke\"] # Columns used for prediction\n",
    "y_col = \"cardio\"   # The column we're trying to predict"
   ]
  },
  {
   "cell_type": "code",
   "execution_count": 21,
   "id": "2c2706ac-4cc4-449f-b376-39bdfd49448f",
   "metadata": {},
   "outputs": [],
   "source": [
    "from sklearn.model_selection import train_test_split"
   ]
  },
  {
   "cell_type": "code",
   "execution_count": 22,
   "id": "b0cd81d8-0601-40ac-95b3-bef30d770cc0",
   "metadata": {},
   "outputs": [],
   "source": [
    "train, test = train_test_split(df, test_size=0.3, random_state=101)"
   ]
  },
  {
   "cell_type": "code",
   "execution_count": 23,
   "id": "cdf1a784-a7be-472e-9aa0-5dc55c239127",
   "metadata": {},
   "outputs": [],
   "source": [
    "from sklearn.linear_model import LinearRegression"
   ]
  },
  {
   "cell_type": "code",
   "execution_count": 24,
   "id": "705c5df1-7e2a-4026-8901-ef783c34651f",
   "metadata": {},
   "outputs": [],
   "source": [
    "linear_model = LinearRegression()\n",
    "X = train.loc[:, X_cols]\n",
    "y = train.loc[:, y_col]\n",
    "linear_model.fit(X, y)\n",
    "train[\"linear_pred\"] = linear_model.predict(train.loc[:, X_cols])\n",
    "test[\"linear_pred\"] = linear_model.predict(test.loc[:, X_cols])"
   ]
  },
  {
   "cell_type": "code",
   "execution_count": 25,
   "id": "81fde58c-97af-42f5-ba09-12cdf5ea6e09",
   "metadata": {},
   "outputs": [
    {
     "data": {
      "text/plain": [
       "20462    0.576988\n",
       "59648    0.395203\n",
       "33399    0.344006\n",
       "1454     0.376180\n",
       "27406    0.611755\n",
       "           ...   \n",
       "20463    0.641318\n",
       "55293    0.241409\n",
       "49751    0.444154\n",
       "5695     0.413632\n",
       "45919    0.314424\n",
       "Name: linear_pred, Length: 49000, dtype: float64"
      ]
     },
     "execution_count": 25,
     "metadata": {},
     "output_type": "execute_result"
    }
   ],
   "source": [
    "train[\"linear_pred\"]"
   ]
  },
  {
   "cell_type": "code",
   "execution_count": 26,
   "id": "b39069ee-f6b1-41a8-9b56-47a25f39c3dd",
   "metadata": {},
   "outputs": [
    {
     "data": {
      "text/plain": [
       "6733     0.665304\n",
       "52709    0.398949\n",
       "52970    0.723640\n",
       "12445    0.537708\n",
       "26310    0.694087\n",
       "           ...   \n",
       "47357    0.296604\n",
       "49978    0.498904\n",
       "25463    0.587370\n",
       "39998    0.671420\n",
       "37156    0.556228\n",
       "Name: linear_pred, Length: 21000, dtype: float64"
      ]
     },
     "execution_count": 26,
     "metadata": {},
     "output_type": "execute_result"
    }
   ],
   "source": [
    "test[\"linear_pred\"]"
   ]
  },
  {
   "cell_type": "code",
   "execution_count": 27,
   "id": "c6d73e50-55d2-4e83-bcf2-4587a406131e",
   "metadata": {},
   "outputs": [
    {
     "name": "stdout",
     "output_type": "stream",
     "text": [
      "Training set error for linear model: 0.47923742904724265\n",
      "Test set error for linear model:  0.4773777509094464\n"
     ]
    }
   ],
   "source": [
    "train_rmse = np.mean((train[\"linear_pred\"] - train[\"cardio\"]) ** 2) ** 0.5\n",
    "test_rmse = np.mean((test[\"linear_pred\"] - test[\"cardio\"]) ** 2) ** 0.5\n",
    "\n",
    "print(\"Training set error for linear model:\", train_rmse)\n",
    "print(\"Test set error for linear model: \", test_rmse)"
   ]
  },
  {
   "cell_type": "code",
   "execution_count": 28,
   "id": "3b260108-7a3a-4b04-b38e-5183628dd850",
   "metadata": {},
   "outputs": [
    {
     "name": "stdout",
     "output_type": "stream",
     "text": [
      "['age', 'gender', 'BMI', 'ap_hi', 'gluc', 'smoke']\n"
     ]
    },
    {
     "data": {
      "text/plain": [
       "array([ 0.01614222,  0.03676844,  0.01148309,  0.00012981,  0.0420685 ,\n",
       "       -0.01702317])"
      ]
     },
     "execution_count": 28,
     "metadata": {},
     "output_type": "execute_result"
    }
   ],
   "source": [
    "print(X_cols)\n",
    "linear_model.coef_"
   ]
  },
  {
   "cell_type": "code",
   "execution_count": 29,
   "id": "4b3bc1aa-8e09-4a95-9c22-ccb2e2da3775",
   "metadata": {},
   "outputs": [
    {
     "data": {
      "text/html": [
       "<div>\n",
       "<style scoped>\n",
       "    .dataframe tbody tr th:only-of-type {\n",
       "        vertical-align: middle;\n",
       "    }\n",
       "\n",
       "    .dataframe tbody tr th {\n",
       "        vertical-align: top;\n",
       "    }\n",
       "\n",
       "    .dataframe thead th {\n",
       "        text-align: right;\n",
       "    }\n",
       "</style>\n",
       "<table border=\"1\" class=\"dataframe\">\n",
       "  <thead>\n",
       "    <tr style=\"text-align: right;\">\n",
       "      <th></th>\n",
       "      <th>id</th>\n",
       "      <th>age</th>\n",
       "      <th>gender</th>\n",
       "      <th>height</th>\n",
       "      <th>weight</th>\n",
       "      <th>ap_hi</th>\n",
       "      <th>ap_lo</th>\n",
       "      <th>cholesterol</th>\n",
       "      <th>gluc</th>\n",
       "      <th>smoke</th>\n",
       "      <th>alco</th>\n",
       "      <th>active</th>\n",
       "      <th>cardio</th>\n",
       "      <th>BMI</th>\n",
       "      <th>linear_pred</th>\n",
       "      <th>abs_linear_error</th>\n",
       "    </tr>\n",
       "  </thead>\n",
       "  <tbody>\n",
       "    <tr>\n",
       "      <th>47253</th>\n",
       "      <td>67502</td>\n",
       "      <td>54</td>\n",
       "      <td>1</td>\n",
       "      <td>160</td>\n",
       "      <td>65.0</td>\n",
       "      <td>14020</td>\n",
       "      <td>90</td>\n",
       "      <td>1</td>\n",
       "      <td>1</td>\n",
       "      <td>0</td>\n",
       "      <td>0</td>\n",
       "      <td>1</td>\n",
       "      <td>0</td>\n",
       "      <td>25.390625</td>\n",
       "      <td>2.267777</td>\n",
       "      <td>2.267777</td>\n",
       "    </tr>\n",
       "    <tr>\n",
       "      <th>27384</th>\n",
       "      <td>39156</td>\n",
       "      <td>42</td>\n",
       "      <td>1</td>\n",
       "      <td>80</td>\n",
       "      <td>178.0</td>\n",
       "      <td>140</td>\n",
       "      <td>90</td>\n",
       "      <td>3</td>\n",
       "      <td>3</td>\n",
       "      <td>0</td>\n",
       "      <td>0</td>\n",
       "      <td>1</td>\n",
       "      <td>1</td>\n",
       "      <td>278.125000</td>\n",
       "      <td>3.258629</td>\n",
       "      <td>2.258629</td>\n",
       "    </tr>\n",
       "  </tbody>\n",
       "</table>\n",
       "</div>"
      ],
      "text/plain": [
       "          id  age  gender  height  weight  ap_hi  ap_lo  cholesterol  gluc  \\\n",
       "47253  67502   54       1     160    65.0  14020     90            1     1   \n",
       "27384  39156   42       1      80   178.0    140     90            3     3   \n",
       "\n",
       "       smoke  alco  active  cardio         BMI  linear_pred  abs_linear_error  \n",
       "47253      0     0       1       0   25.390625     2.267777          2.267777  \n",
       "27384      0     0       1       1  278.125000     3.258629          2.258629  "
      ]
     },
     "execution_count": 29,
     "metadata": {},
     "output_type": "execute_result"
    }
   ],
   "source": [
    "test[\"abs_linear_error\"] = np.abs(test[\"linear_pred\"] - test[\"cardio\"])\n",
    "worst_linear_predicted_cars_df = test.sort_values(\"abs_linear_error\", ascending=False).take([0, 1])\n",
    "worst_linear_predicted_cars_df"
   ]
  },
  {
   "cell_type": "markdown",
   "id": "2870741b-07cb-4b04-9fae-9f121d767fbb",
   "metadata": {},
   "source": [
    "# 2. Decision Trees"
   ]
  },
  {
   "cell_type": "code",
   "execution_count": 30,
   "id": "8143e042-3f01-438d-8832-017e6cc62f44",
   "metadata": {},
   "outputs": [
    {
     "name": "stdout",
     "output_type": "stream",
     "text": [
      "Decision Tree Accuracy: 0.6355238095238095\n",
      "Random Forest Accuracy: 0.6598571428571428\n",
      "Decision Tree ROC-AUC: 0.6405934735358962\n",
      "Random Forest ROC-AUC: 0.7217490613516049\n",
      "Decision Tree Report:\n",
      "               precision    recall  f1-score   support\n",
      "\n",
      "           0       0.63      0.67      0.65     10543\n",
      "           1       0.64      0.60      0.62     10457\n",
      "\n",
      "    accuracy                           0.64     21000\n",
      "   macro avg       0.64      0.64      0.64     21000\n",
      "weighted avg       0.64      0.64      0.64     21000\n",
      "\n",
      "Random Forest Report:\n",
      "               precision    recall  f1-score   support\n",
      "\n",
      "           0       0.66      0.66      0.66     10543\n",
      "           1       0.66      0.66      0.66     10457\n",
      "\n",
      "    accuracy                           0.66     21000\n",
      "   macro avg       0.66      0.66      0.66     21000\n",
      "weighted avg       0.66      0.66      0.66     21000\n",
      "\n"
     ]
    }
   ],
   "source": [
    "from sklearn.model_selection import train_test_split\n",
    "from sklearn.tree import DecisionTreeClassifier\n",
    "from sklearn.ensemble import RandomForestClassifier\n",
    "from sklearn.metrics import accuracy_score, roc_auc_score, confusion_matrix, classification_report\n",
    "\n",
    "# Assuming df is your DataFrame and 'cardio' is the target variable\n",
    "\n",
    "# Selecting features and target\n",
    "X = df[['age', 'gender', 'BMI', 'ap_hi', 'gluc', 'smoke']]  # adjust features as needed\n",
    "y = df['cardio']\n",
    "\n",
    "# Splitting the data into training and testing sets\n",
    "X_train, X_test, y_train, y_test = train_test_split(X, y, test_size=0.3, random_state=101)\n",
    "\n",
    "# Initialize and train decision tree\n",
    "tree_model = DecisionTreeClassifier(random_state=101)\n",
    "tree_model.fit(X_train, y_train)\n",
    "\n",
    "# Initialize and train random forest\n",
    "forest_model = RandomForestClassifier(n_estimators=100, random_state=101)\n",
    "forest_model.fit(X_train, y_train)\n",
    "\n",
    "# Making predictions\n",
    "tree_pred = tree_model.predict(X_test)\n",
    "forest_pred = forest_model.predict(X_test)\n",
    "\n",
    "# Evaluating the models\n",
    "print(\"Decision Tree Accuracy:\", accuracy_score(y_test, tree_pred))\n",
    "print(\"Random Forest Accuracy:\", accuracy_score(y_test, forest_pred))\n",
    "print(\"Decision Tree ROC-AUC:\", roc_auc_score(y_test, tree_model.predict_proba(X_test)[:, 1]))\n",
    "print(\"Random Forest ROC-AUC:\", roc_auc_score(y_test, forest_model.predict_proba(X_test)[:, 1]))\n",
    "print(\"Decision Tree Report:\\n\", classification_report(y_test, tree_pred))\n",
    "print(\"Random Forest Report:\\n\", classification_report(y_test, forest_pred))\n"
   ]
  },
  {
   "cell_type": "code",
   "execution_count": 31,
   "id": "38099646-b1f9-42ae-95bd-1a7c963ab09c",
   "metadata": {},
   "outputs": [],
   "source": [
    "from sklearn.tree import DecisionTreeRegressor"
   ]
  },
  {
   "cell_type": "code",
   "execution_count": 32,
   "id": "640a6f70-b998-4078-a6b0-cac1b57abd5c",
   "metadata": {},
   "outputs": [],
   "source": [
    "tree_model = DecisionTreeRegressor()"
   ]
  },
  {
   "cell_type": "code",
   "execution_count": 33,
   "id": "9b07540b-5a01-4b7c-8f1d-a46bf31b1460",
   "metadata": {},
   "outputs": [],
   "source": [
    "X = train.loc[:, X_cols]\n",
    "y = train.loc[:, y_col]\n",
    "tree_model.fit(X, y)\n",
    "train[\"tree_pred\"] = tree_model.predict(train.loc[:, X_cols]) \n",
    "test[\"tree_pred\"] = tree_model.predict(test.loc[:, X_cols]) "
   ]
  },
  {
   "cell_type": "code",
   "execution_count": 34,
   "id": "018f53c6-b97d-431d-9376-41ecdce179ce",
   "metadata": {},
   "outputs": [
    {
     "name": "stdout",
     "output_type": "stream",
     "text": [
      "Training set error for decision tree: 0.1650027165022857\n",
      "Test set error for decision tree:  0.5906996473150813\n"
     ]
    }
   ],
   "source": [
    "train_rmse = np.mean((train[\"tree_pred\"] - train[\"cardio\"]) ** 2) ** 0.5\n",
    "test_rmse = np.mean((test[\"tree_pred\"] - test[\"cardio\"]) ** 2) ** 0.5\n",
    "\n",
    "print(\"Training set error for decision tree:\", train_rmse)\n",
    "print(\"Test set error for decision tree: \", test_rmse)"
   ]
  },
  {
   "cell_type": "code",
   "execution_count": 35,
   "id": "d22a25c1-640d-4cde-953c-4d25fe09f6dc",
   "metadata": {},
   "outputs": [
    {
     "data": {
      "image/png": "[encoded data removed]",
      "text/plain": [
       "<Figure size 1200x700 with 1 Axes>"
      ]
     },
     "metadata": {},
     "output_type": "display_data"
    }
   ],
   "source": [
    "from sklearn.tree import plot_tree\n",
    "plt.figure(figsize=(12, 7))\n",
    "plot_tree(tree_model, max_depth=2, fontsize=14, feature_names=X_cols);"
   ]
  },
  {
   "cell_type": "markdown",
   "id": "0172e2af-32e7-4874-9976-7c29900068b4",
   "metadata": {},
   "source": [
    "# 3. Logistic regression"
   ]
  },
  {
   "cell_type": "code",
   "execution_count": 36,
   "id": "13777bd5-c0b0-4386-976c-96524b5048fc",
   "metadata": {},
   "outputs": [
    {
     "name": "stdout",
     "output_type": "stream",
     "text": [
      "Accuracy: 0.7213809523809523\n",
      "ROC-AUC: 0.7881659847519801\n",
      "Confusion Matrix:\n",
      " [[8146 2397]\n",
      " [3454 7003]]\n",
      "Classification Report:\n",
      "               precision    recall  f1-score   support\n",
      "\n",
      "           0       0.70      0.77      0.74     10543\n",
      "           1       0.74      0.67      0.71     10457\n",
      "\n",
      "    accuracy                           0.72     21000\n",
      "   macro avg       0.72      0.72      0.72     21000\n",
      "weighted avg       0.72      0.72      0.72     21000\n",
      "\n"
     ]
    }
   ],
   "source": [
    "from sklearn.model_selection import train_test_split\n",
    "from sklearn.linear_model import LogisticRegression\n",
    "from sklearn.metrics import accuracy_score, roc_auc_score, confusion_matrix, classification_report\n",
    "import pandas as pd\n",
    "\n",
    "# Selecting features and target\n",
    "\n",
    "# age\tgender\theight\tweight\tap_hi\tap_lo\tcholesterol\tgluc\tsmoke\talco\tactive\tcardio\n",
    "X = df[['age', 'gender', 'BMI', 'ap_hi', 'gluc', 'smoke',\"height\",\"active\",\"cholesterol\"]]  # Adjust features as needed\n",
    "y = df['cardio']\n",
    "\n",
    "# Splitting the data into training and testing sets\n",
    "X_train, X_test, y_train, y_test = train_test_split(X, y, test_size=0.3, random_state=101)\n",
    "\n",
    "# Initialize and train logistic regression model\n",
    "model = LogisticRegression(max_iter=1000)  # Increase max_iter if convergence issues occur\n",
    "model.fit(X_train, y_train)\n",
    "\n",
    "# Making predictions\n",
    "y_pred = model.predict(X_test)\n",
    "y_pred_proba = model.predict_proba(X_test)[:, 1]  # Probabilities for ROC-AUC\n",
    "\n",
    "# Evaluating the model\n",
    "accuracy = accuracy_score(y_test, y_pred)\n",
    "roc_auc = roc_auc_score(y_test, y_pred_proba)\n",
    "conf_matrix = confusion_matrix(y_test, y_pred)\n",
    "report = classification_report(y_test, y_pred)\n",
    "\n",
    "print(\"Accuracy:\", accuracy)\n",
    "print(\"ROC-AUC:\", roc_auc)\n",
    "print(\"Confusion Matrix:\\n\", conf_matrix)\n",
    "print(\"Classification Report:\\n\", report)\n"
   ]
  },
  {
   "cell_type": "code",
   "execution_count": 37,
   "id": "f68e4418-fbd2-4963-a672-1a11864ba990",
   "metadata": {},
   "outputs": [
    {
     "name": "stderr",
     "output_type": "stream",
     "text": [
      "/srv/conda/envs/notebook/lib/python3.11/site-packages/sklearn/linear_model/_logistic.py:1173: FutureWarning: `penalty='none'`has been deprecated in 1.2 and will be removed in 1.4. To keep the past behaviour, set `penalty=None`.\n",
      "  warnings.warn(\n"
     ]
    },
    {
     "name": "stdout",
     "output_type": "stream",
     "text": [
      "Accuracy on test set: 0.7126666666666667\n"
     ]
    }
   ],
   "source": [
    "train, test = train_test_split(df, test_size=0.3, random_state=101)\n",
    "\n",
    "X_cols = [\"age\", \"gender\", \"BMI\", \"ap_hi\", \"gluc\", \"smoke\"] # Columns used for prediction\n",
    "y_col = \"cardio\"   # The column we're trying to predict\n",
    "\n",
    "from sklearn.linear_model import LogisticRegression\n",
    "\n",
    "X_train = train[X_cols].values\n",
    "y_train = train[y_col].values\n",
    "\n",
    "X_test = test[X_cols].values\n",
    "y_test = test[y_col].values\n",
    "\n",
    "model_simple_features = LogisticRegression(penalty='none', solver='lbfgs')\n",
    "\n",
    "model_simple_features.fit(X_test, y_test)\n",
    "\n",
    "probs = model_simple_features.predict_proba(X_test)[:, 1]\n",
    "\n",
    "y_hat = (probs > 0.5).astype(np.int64)\n",
    "\n",
    "accuracy = np.mean(y_test == y_hat)\n",
    "\n",
    "print(f\"Accuracy on test set: {accuracy}\")"
   ]
  },
  {
   "cell_type": "markdown",
   "id": "8c096c64-56ce-44f3-85a7-b9a20c6822d6",
   "metadata": {},
   "source": [
    "## 4.Poisson Regression"
   ]
  },
  {
   "cell_type": "code",
   "execution_count": 38,
   "id": "cedd784d-c854-4627-bc53-857380975dc0",
   "metadata": {},
   "outputs": [
    {
     "name": "stdout",
     "output_type": "stream",
     "text": [
      "                 Generalized Linear Model Regression Results                  \n",
      "==============================================================================\n",
      "Dep. Variable:                 cardio   No. Observations:                70000\n",
      "Model:                            GLM   Df Residuals:                    69990\n",
      "Model Family:                 Poisson   Df Model:                            9\n",
      "Link Function:                    Log   Scale:                          1.0000\n",
      "Method:                          IRLS   Log-Likelihood:                -57409.\n",
      "Date:                Wed, 01 May 2024   Deviance:                       44861.\n",
      "Time:                        16:01:14   Pearson chi2:                 3.44e+04\n",
      "No. Iterations:                     7   Pseudo R-squ. (CS):            0.05111\n",
      "Covariance Type:            nonrobust                                         \n",
      "===============================================================================\n",
      "                  coef    std err          z      P>|z|      [0.025      0.975]\n",
      "-------------------------------------------------------------------------------\n",
      "const          -4.2540      0.139    -30.579      0.000      -4.527      -3.981\n",
      "age             0.0324      0.001     38.313      0.000       0.031       0.034\n",
      "gender          0.0132      0.013      0.981      0.326      -0.013       0.039\n",
      "BMI             0.0149      0.001     25.934      0.000       0.014       0.016\n",
      "ap_hi           0.0001   1.59e-05      7.434      0.000    8.68e-05       0.000\n",
      "gluc           -0.0399      0.010     -4.170      0.000      -0.059      -0.021\n",
      "smoke          -0.0611      0.020     -2.989      0.003      -0.101      -0.021\n",
      "height          0.0069      0.001      9.004      0.000       0.005       0.008\n",
      "active         -0.0829      0.013     -6.314      0.000      -0.109      -0.057\n",
      "cholesterol     0.2340      0.008     29.895      0.000       0.219       0.249\n",
      "===============================================================================\n",
      "Accuracy: 0.6343428571428571\n",
      "Classification Report:\n",
      "               precision    recall  f1-score   support\n",
      "\n",
      "           0       0.62      0.71      0.66     35021\n",
      "           1       0.66      0.56      0.60     34979\n",
      "\n",
      "    accuracy                           0.63     70000\n",
      "   macro avg       0.64      0.63      0.63     70000\n",
      "weighted avg       0.64      0.63      0.63     70000\n",
      "\n"
     ]
    }
   ],
   "source": [
    "# Adding a constant to the predictors\n",
    "X = sm.add_constant(X)\n",
    "\n",
    "# Fit a Poisson regression model\n",
    "poisson_model = sm.GLM(y, X, family=sm.families.Poisson()).fit()\n",
    "\n",
    "# Print the summary of the model to see the output\n",
    "print(poisson_model.summary())\n",
    "# Prediction on the dataset (or you can split into training/testing)\n",
    "y_pred = poisson_model.predict(X)\n",
    "\n",
    "y_pred_binary = (y_pred >= 0.5).astype(int)\n",
    "\n",
    "# Evaluate the predictions\n",
    "\n",
    "print(\"Accuracy:\", accuracy_score(y, y_pred_binary))\n",
    "print(\"Classification Report:\\n\", classification_report(y, y_pred_binary))\n"
   ]
  },
  {
   "cell_type": "code",
   "execution_count": 39,
   "id": "49647a4f-e2e9-409e-a912-3539e44f0d48",
   "metadata": {},
   "outputs": [],
   "source": [
    "# Add random features\n",
    "\n",
    "def sigmoid(x):\n",
    "    return 1 / (1 + np.exp(-x))\n",
    "    \n",
    "def add_random_feature(train_data, test_data):\n",
    "    # Returns the modified train_data and test_data\n",
    "    coeffs = np.random.uniform(-1, 1, 6) \n",
    "    \n",
    "    # This code gives the feature a convenient name\n",
    "    feat_name = f\"({coeffs[0]:0.2f}x1 + {coeffs[1]:0.2f}x2 + {coeffs[2]:0.2f}x3 + {coeffs[3]:0.2f}x4 + {coeffs[4]:0.2f}x5 + {coeffs[5]:0.2f}x6)\"\n",
    "    \n",
    "    for dataset in (train_data, test_data):\n",
    "        linear_combination = np.dot(dataset[X_cols], coeffs)\n",
    "        feature = sigmoid(linear_combination) \n",
    "        dataset[feat_name] = feature\n",
    "        \n",
    "    return train_data, test_data"
   ]
  },
  {
   "cell_type": "code",
   "execution_count": 40,
   "id": "b69e45d0-2b80-4ebd-819b-7b96e5c0c39c",
   "metadata": {},
   "outputs": [],
   "source": [
    "# # There seems to be a problem. We need to correct it.\n",
    "\n",
    "# train_feats = train.copy()\n",
    "# test_feats = test.copy()\n",
    "\n",
    "# for i in range(30):\n",
    "#     train_feats, test_feats = (add_random_feature(train_feats, test_feats))\n",
    "\n",
    "# train_feats.head()"
   ]
  },
  {
   "cell_type": "code",
   "execution_count": 41,
   "id": "6b28e275-40c4-4559-b3bf-ca8f8cf8d974",
   "metadata": {},
   "outputs": [],
   "source": [
    "# # There seems to be a problem. We need to correct it.\n",
    "\n",
    "# X_train = train_feats.iloc[:, 1:].values\n",
    "# y_train = train_feats[y_col].values\n",
    "# X_test = test_feats.iloc[:, 1:].values\n",
    "# y_test = test_feats[y_col].values\n",
    "\n",
    "# # Initialize and train the logistic regression model\n",
    "# model_features = LogisticRegression(penalty='none', solver='lbfgs')\n",
    "# model_features.fit(X_train, y_train)\n",
    "\n",
    "# # Predict probabilities and convert to binary predictions\n",
    "# probs = model_features.predict_proba(X_test)[:, 1]\n",
    "# y_hat = (probs > 0.5).astype(np.int64)\n",
    "\n",
    "# # Calculate accuracy\n",
    "# accuracy = np.mean(y_test == y_hat)\n",
    "\n",
    "# print(f\"Accuracy on test set: {accuracy}\")"
   ]
  },
  {
   "cell_type": "markdown",
   "id": "00ef0260-72e3-4be4-be9d-8a8bd5d1eede",
   "metadata": {},
   "source": [
    "# 5. Negative Binomial Regression"
   ]
  },
  {
   "cell_type": "code",
   "execution_count": 42,
   "id": "23ef8d91-e016-42b3-ae39-64733781b435",
   "metadata": {},
   "outputs": [
    {
     "name": "stderr",
     "output_type": "stream",
     "text": [
      "/srv/conda/envs/notebook/lib/python3.11/site-packages/statsmodels/genmod/families/family.py:1367: ValueWarning: Negative binomial dispersion parameter alpha not set. Using default value alpha=1.0.\n",
      "  warnings.warn(\"Negative binomial dispersion parameter alpha not \"\n"
     ]
    },
    {
     "name": "stdout",
     "output_type": "stream",
     "text": [
      "Accuracy on test set: 0.6284285714285714\n"
     ]
    }
   ],
   "source": [
    "import statsmodels.api as sm\n",
    "\n",
    "X = sm.add_constant(df[[\"age\", \"gender\", \"BMI\", \"ap_hi\", \"smoke\"]])\n",
    "y = df.cardio\n",
    "\n",
    "# Split data into training and testing sets\n",
    "X_train, X_test, y_train, y_test = train_test_split(X, y, test_size=0.2, random_state=42)\n",
    "\n",
    "# Fit the Negative Binomial regression model\n",
    "negbin_model = sm.GLM(y_train, X_train, family=sm.families.NegativeBinomial())\n",
    "negbin_results = negbin_model.fit()\n",
    "\n",
    "# Make predictions on the test set\n",
    "probs = negbin_results.predict(X_test)\n",
    "\n",
    "# Convert predicted probabilities to binary predictions\n",
    "y_hat = (probs > 0.5).astype(np.int64)\n",
    "\n",
    "accuracy = np.mean(y_test == y_hat)\n",
    "\n",
    "print(f\"Accuracy on test set: {accuracy}\")\n",
    "\n",
    "# If there's way to improve the accurancy"
   ]
  },
  {
   "cell_type": "code",
   "execution_count": null,
   "id": "37e92b2c-f1dd-4e67-8ae6-f34393339894",
   "metadata": {},
   "outputs": [],
   "source": []
  },
  {
   "cell_type": "code",
   "execution_count": null,
   "id": "21a2d18e-2d16-4a90-ad32-d66792b135a0",
   "metadata": {},
   "outputs": [],
   "source": []
  },
  {
   "cell_type": "code",
   "execution_count": null,
   "id": "5718e3ea-84f8-40df-8e8f-bd718fb5736e",
   "metadata": {},
   "outputs": [],
   "source": []
  },
  {
   "cell_type": "code",
   "execution_count": null,
   "id": "05249751-4055-447a-9e37-11830f6d4b47",
   "metadata": {},
   "outputs": [],
   "source": []
  },
  {
   "cell_type": "markdown",
   "id": "ee2b9ab9-0081-46b5-924f-471986440524",
   "metadata": {},
   "source": [
    "# 6. AIC Model"
   ]
  },
  {
   "cell_type": "code",
   "execution_count": 43,
   "id": "d13e688d-08dc-44ea-ac1f-3ace15ca6452",
   "metadata": {},
   "outputs": [
    {
     "name": "stdout",
     "output_type": "stream",
     "text": [
      "Optimization terminated successfully.\n",
      "         Current function value: 0.599559\n",
      "         Iterations 7\n",
      "AIC for the model: 58788.801202827635\n"
     ]
    }
   ],
   "source": [
    "from sklearn.model_selection import train_test_split\n",
    "import statsmodels.api as sm\n",
    "\n",
    "df['gender'] = df['gender'].astype('category')\n",
    "df['cholesterol'] = df['cholesterol'].astype('category')\n",
    "df['gluc'] = df['gluc'].astype('category')\n",
    "\n",
    "# Create dummy variables for categorical features\n",
    "\n",
    "# id\tage\tgender\theight\tweight\tap_hi\tap_lo\tcholesterol\tgluc\tsmoke\talco\tactive\tcardio\t\n",
    "df_encoded = pd.get_dummies(df, columns=['gender', 'cholesterol', 'gluc'], drop_first=True)\n",
    "\n",
    "\n",
    "X = df_encoded.drop('cardio', axis=1) \n",
    "y = df_encoded['cardio']\n",
    "\n",
    "# Split the dataset into training and testing sets\n",
    "X_train, X_test, y_train, y_test = train_test_split(X, y, test_size=0.3, random_state=42)\n",
    "\n",
    "# Add a constant to the training data\n",
    "X_train_sm = sm.add_constant(X_train) \n",
    "# Convert X_train_sm and y_train to numpy arrays to avoid dtype issues in statsmodels\n",
    "X_train_sm_np = np.array(X_train_sm, dtype=float)\n",
    "y_train_np = np.array(y_train, dtype=float)\n",
    "\n",
    "# Fit the logistic regression model using statsmodels\n",
    "logit_model_np = sm.Logit(y_train_np, X_train_sm_np)\n",
    "result_np = logit_model_np.fit()\n",
    "aic_value_np = result_np.aic\n",
    "\n",
    "print(\"AIC for the model:\", aic_value_np)"
   ]
  },
  {
   "cell_type": "code",
   "execution_count": 44,
   "id": "7fb3d23c-001f-4135-9cbd-c6f182a3fd09",
   "metadata": {},
   "outputs": [
    {
     "data": {
      "text/html": [
       "<table class=\"simpletable\">\n",
       "<caption>Logit Regression Results</caption>\n",
       "<tr>\n",
       "  <th>Dep. Variable:</th>           <td>y</td>        <th>  No. Observations:  </th>  <td> 49000</td> \n",
       "</tr>\n",
       "<tr>\n",
       "  <th>Model:</th>                 <td>Logit</td>      <th>  Df Residuals:      </th>  <td> 48984</td> \n",
       "</tr>\n",
       "<tr>\n",
       "  <th>Method:</th>                 <td>MLE</td>       <th>  Df Model:          </th>  <td>    15</td> \n",
       "</tr>\n",
       "<tr>\n",
       "  <th>Date:</th>            <td>Wed, 01 May 2024</td> <th>  Pseudo R-squ.:     </th>  <td>0.1350</td> \n",
       "</tr>\n",
       "<tr>\n",
       "  <th>Time:</th>                <td>16:01:18</td>     <th>  Log-Likelihood:    </th> <td> -29378.</td>\n",
       "</tr>\n",
       "<tr>\n",
       "  <th>converged:</th>             <td>True</td>       <th>  LL-Null:           </th> <td> -33964.</td>\n",
       "</tr>\n",
       "<tr>\n",
       "  <th>Covariance Type:</th>     <td>nonrobust</td>    <th>  LLR p-value:       </th>  <td> 0.000</td> \n",
       "</tr>\n",
       "</table>\n",
       "<table class=\"simpletable\">\n",
       "<tr>\n",
       "    <td></td>       <th>coef</th>     <th>std err</th>      <th>z</th>      <th>P>|z|</th>  <th>[0.025</th>    <th>0.975]</th>  \n",
       "</tr>\n",
       "<tr>\n",
       "  <th>const</th> <td>   -6.8177</td> <td>    0.396</td> <td>  -17.226</td> <td> 0.000</td> <td>   -7.593</td> <td>   -6.042</td>\n",
       "</tr>\n",
       "<tr>\n",
       "  <th>x1</th>    <td>  1.31e-08</td> <td> 3.44e-07</td> <td>    0.038</td> <td> 0.970</td> <td>-6.61e-07</td> <td> 6.87e-07</td>\n",
       "</tr>\n",
       "<tr>\n",
       "  <th>x2</th>    <td>    0.0543</td> <td>    0.002</td> <td>   35.389</td> <td> 0.000</td> <td>    0.051</td> <td>    0.057</td>\n",
       "</tr>\n",
       "<tr>\n",
       "  <th>x3</th>    <td>   -0.0101</td> <td>    0.002</td> <td>   -4.316</td> <td> 0.000</td> <td>   -0.015</td> <td>   -0.006</td>\n",
       "</tr>\n",
       "<tr>\n",
       "  <th>x4</th>    <td>    0.0186</td> <td>    0.002</td> <td>   10.186</td> <td> 0.000</td> <td>    0.015</td> <td>    0.022</td>\n",
       "</tr>\n",
       "<tr>\n",
       "  <th>x5</th>    <td>    0.0349</td> <td>    0.001</td> <td>   49.939</td> <td> 0.000</td> <td>    0.033</td> <td>    0.036</td>\n",
       "</tr>\n",
       "<tr>\n",
       "  <th>x6</th>    <td>    0.0003</td> <td>  7.1e-05</td> <td>    3.726</td> <td> 0.000</td> <td>    0.000</td> <td>    0.000</td>\n",
       "</tr>\n",
       "<tr>\n",
       "  <th>x7</th>    <td>   -0.1232</td> <td>    0.039</td> <td>   -3.142</td> <td> 0.002</td> <td>   -0.200</td> <td>   -0.046</td>\n",
       "</tr>\n",
       "<tr>\n",
       "  <th>x8</th>    <td>   -0.1990</td> <td>    0.047</td> <td>   -4.215</td> <td> 0.000</td> <td>   -0.292</td> <td>   -0.106</td>\n",
       "</tr>\n",
       "<tr>\n",
       "  <th>x9</th>    <td>   -0.1885</td> <td>    0.025</td> <td>   -7.552</td> <td> 0.000</td> <td>   -0.237</td> <td>   -0.140</td>\n",
       "</tr>\n",
       "<tr>\n",
       "  <th>x10</th>   <td>   -0.0082</td> <td>    0.004</td> <td>   -1.962</td> <td> 0.050</td> <td>   -0.016</td> <td>-1.05e-05</td>\n",
       "</tr>\n",
       "<tr>\n",
       "  <th>x11</th>   <td>    0.0295</td> <td>    0.025</td> <td>    1.172</td> <td> 0.241</td> <td>   -0.020</td> <td>    0.079</td>\n",
       "</tr>\n",
       "<tr>\n",
       "  <th>x12</th>   <td>    0.4420</td> <td>    0.031</td> <td>   14.457</td> <td> 0.000</td> <td>    0.382</td> <td>    0.502</td>\n",
       "</tr>\n",
       "<tr>\n",
       "  <th>x13</th>   <td>    1.1541</td> <td>    0.041</td> <td>   28.218</td> <td> 0.000</td> <td>    1.074</td> <td>    1.234</td>\n",
       "</tr>\n",
       "<tr>\n",
       "  <th>x14</th>   <td>    0.0389</td> <td>    0.041</td> <td>    0.955</td> <td> 0.340</td> <td>   -0.041</td> <td>    0.119</td>\n",
       "</tr>\n",
       "<tr>\n",
       "  <th>x15</th>   <td>   -0.3275</td> <td>    0.045</td> <td>   -7.200</td> <td> 0.000</td> <td>   -0.417</td> <td>   -0.238</td>\n",
       "</tr>\n",
       "</table>"
      ],
      "text/latex": [
       "\\begin{center}\n",
       "\\begin{tabular}{lclc}\n",
       "\\toprule\n",
       "\\textbf{Dep. Variable:}   &        y         & \\textbf{  No. Observations:  } &    49000    \\\\\n",
       "\\textbf{Model:}           &      Logit       & \\textbf{  Df Residuals:      } &    48984    \\\\\n",
       "\\textbf{Method:}          &       MLE        & \\textbf{  Df Model:          } &       15    \\\\\n",
       "\\textbf{Date:}            & Wed, 01 May 2024 & \\textbf{  Pseudo R-squ.:     } &   0.1350    \\\\\n",
       "\\textbf{Time:}            &     16:01:18     & \\textbf{  Log-Likelihood:    } &   -29378.   \\\\\n",
       "\\textbf{converged:}       &       True       & \\textbf{  LL-Null:           } &   -33964.   \\\\\n",
       "\\textbf{Covariance Type:} &    nonrobust     & \\textbf{  LLR p-value:       } &    0.000    \\\\\n",
       "\\bottomrule\n",
       "\\end{tabular}\n",
       "\\begin{tabular}{lcccccc}\n",
       "               & \\textbf{coef} & \\textbf{std err} & \\textbf{z} & \\textbf{P$> |$z$|$} & \\textbf{[0.025} & \\textbf{0.975]}  \\\\\n",
       "\\midrule\n",
       "\\textbf{const} &      -6.8177  &        0.396     &   -17.226  &         0.000        &       -7.593    &       -6.042     \\\\\n",
       "\\textbf{x1}    &     1.31e-08  &     3.44e-07     &     0.038  &         0.970        &    -6.61e-07    &     6.87e-07     \\\\\n",
       "\\textbf{x2}    &       0.0543  &        0.002     &    35.389  &         0.000        &        0.051    &        0.057     \\\\\n",
       "\\textbf{x3}    &      -0.0101  &        0.002     &    -4.316  &         0.000        &       -0.015    &       -0.006     \\\\\n",
       "\\textbf{x4}    &       0.0186  &        0.002     &    10.186  &         0.000        &        0.015    &        0.022     \\\\\n",
       "\\textbf{x5}    &       0.0349  &        0.001     &    49.939  &         0.000        &        0.033    &        0.036     \\\\\n",
       "\\textbf{x6}    &       0.0003  &      7.1e-05     &     3.726  &         0.000        &        0.000    &        0.000     \\\\\n",
       "\\textbf{x7}    &      -0.1232  &        0.039     &    -3.142  &         0.002        &       -0.200    &       -0.046     \\\\\n",
       "\\textbf{x8}    &      -0.1990  &        0.047     &    -4.215  &         0.000        &       -0.292    &       -0.106     \\\\\n",
       "\\textbf{x9}    &      -0.1885  &        0.025     &    -7.552  &         0.000        &       -0.237    &       -0.140     \\\\\n",
       "\\textbf{x10}   &      -0.0082  &        0.004     &    -1.962  &         0.050        &       -0.016    &    -1.05e-05     \\\\\n",
       "\\textbf{x11}   &       0.0295  &        0.025     &     1.172  &         0.241        &       -0.020    &        0.079     \\\\\n",
       "\\textbf{x12}   &       0.4420  &        0.031     &    14.457  &         0.000        &        0.382    &        0.502     \\\\\n",
       "\\textbf{x13}   &       1.1541  &        0.041     &    28.218  &         0.000        &        1.074    &        1.234     \\\\\n",
       "\\textbf{x14}   &       0.0389  &        0.041     &     0.955  &         0.340        &       -0.041    &        0.119     \\\\\n",
       "\\textbf{x15}   &      -0.3275  &        0.045     &    -7.200  &         0.000        &       -0.417    &       -0.238     \\\\\n",
       "\\bottomrule\n",
       "\\end{tabular}\n",
       "%\\caption{Logit Regression Results}\n",
       "\\end{center}"
      ],
      "text/plain": [
       "<class 'statsmodels.iolib.summary.Summary'>\n",
       "\"\"\"\n",
       "                           Logit Regression Results                           \n",
       "==============================================================================\n",
       "Dep. Variable:                      y   No. Observations:                49000\n",
       "Model:                          Logit   Df Residuals:                    48984\n",
       "Method:                           MLE   Df Model:                           15\n",
       "Date:                Wed, 01 May 2024   Pseudo R-squ.:                  0.1350\n",
       "Time:                        16:01:18   Log-Likelihood:                -29378.\n",
       "converged:                       True   LL-Null:                       -33964.\n",
       "Covariance Type:            nonrobust   LLR p-value:                     0.000\n",
       "==============================================================================\n",
       "                 coef    std err          z      P>|z|      [0.025      0.975]\n",
       "------------------------------------------------------------------------------\n",
       "const         -6.8177      0.396    -17.226      0.000      -7.593      -6.042\n",
       "x1           1.31e-08   3.44e-07      0.038      0.970   -6.61e-07    6.87e-07\n",
       "x2             0.0543      0.002     35.389      0.000       0.051       0.057\n",
       "x3            -0.0101      0.002     -4.316      0.000      -0.015      -0.006\n",
       "x4             0.0186      0.002     10.186      0.000       0.015       0.022\n",
       "x5             0.0349      0.001     49.939      0.000       0.033       0.036\n",
       "x6             0.0003    7.1e-05      3.726      0.000       0.000       0.000\n",
       "x7            -0.1232      0.039     -3.142      0.002      -0.200      -0.046\n",
       "x8            -0.1990      0.047     -4.215      0.000      -0.292      -0.106\n",
       "x9            -0.1885      0.025     -7.552      0.000      -0.237      -0.140\n",
       "x10           -0.0082      0.004     -1.962      0.050      -0.016   -1.05e-05\n",
       "x11            0.0295      0.025      1.172      0.241      -0.020       0.079\n",
       "x12            0.4420      0.031     14.457      0.000       0.382       0.502\n",
       "x13            1.1541      0.041     28.218      0.000       1.074       1.234\n",
       "x14            0.0389      0.041      0.955      0.340      -0.041       0.119\n",
       "x15           -0.3275      0.045     -7.200      0.000      -0.417      -0.238\n",
       "==============================================================================\n",
       "\"\"\""
      ]
     },
     "execution_count": 44,
     "metadata": {},
     "output_type": "execute_result"
    }
   ],
   "source": [
    "model_summary = result_np.summary()\n",
    "model_summary"
   ]
  },
  {
   "cell_type": "markdown",
   "id": "54815407-ac35-403b-a945-74454a706944",
   "metadata": {},
   "source": [
    "#### Accuracy Score of AIC model"
   ]
  },
  {
   "cell_type": "code",
   "execution_count": 45,
   "id": "9e547758-c0c8-49d4-8e0d-7be6a7581507",
   "metadata": {},
   "outputs": [
    {
     "name": "stdout",
     "output_type": "stream",
     "text": [
      "Accuracy of the model: 0.7203333333333334\n"
     ]
    }
   ],
   "source": [
    "X_test_sm = sm.add_constant(X_test)  # Ensure a constant is added to match the training data format\n",
    "X_test_sm = X_test_sm.astype(float)  # Convert X_test_sm to float64 to ensure compatibility\n",
    "y_pred_prob = result_np.predict(X_test_sm)  # This is where you actually predict probabilities\n",
    "\n",
    "# Convert predicted probabilities to binary predictions\n",
    "y_pred = (y_pred_prob >= 0.5).astype(int)\n",
    "\n",
    "# Calculate accuracy\n",
    "accuracy = accuracy_score(y_test, y_pred)\n",
    "print(\"Accuracy of the model:\", accuracy)"
   ]
  },
  {
   "cell_type": "markdown",
   "id": "83847e1a-73a1-4b63-91a0-cd847eeffc21",
   "metadata": {},
   "source": [
    "## ROC-AUC Score and ROC Curve "
   ]
  },
  {
   "cell_type": "code",
   "execution_count": 46,
   "id": "1c7e989c-ad07-4e6f-bdd0-8aeffe5188fd",
   "metadata": {},
   "outputs": [
    {
     "data": {
      "image/png": "[encoded data removed]",
      "text/plain": [
       "<Figure size 800x600 with 1 Axes>"
      ]
     },
     "metadata": {},
     "output_type": "display_data"
    }
   ],
   "source": [
    "from sklearn.metrics import roc_auc_score, roc_curve\n",
    "import matplotlib.pyplot as plt\n",
    "\n",
    "# Assuming y_pred_prob are the probabilities from your logistic regression model\n",
    "roc_auc = roc_auc_score(y_test, y_pred_prob)\n",
    "\n",
    "# Get false positive rate, true positive rate, and threshold values\n",
    "fpr, tpr, thresholds = roc_curve(y_test, y_pred_prob)\n",
    "\n",
    "# Plotting the ROC curve\n",
    "plt.figure(figsize=(8, 6))\n",
    "plt.plot(fpr, tpr, color='darkorange', label=f'ROC curve (area = {roc_auc:.2f})')\n",
    "plt.plot([0, 1], [0, 1], color='navy', linestyle='--')\n",
    "plt.xlim([0.0, 1.0])\n",
    "plt.ylim([0.0, 1.05])\n",
    "plt.xlabel('False Positive Rate')\n",
    "plt.ylabel('True Positive Rate')\n",
    "plt.title('Receiver Operating Characteristic')\n",
    "plt.legend(loc=\"lower right\")\n",
    "plt.show()\n"
   ]
  },
  {
   "cell_type": "markdown",
   "id": "47a43e3a-2e79-454d-a94b-7f66bbd56682",
   "metadata": {},
   "source": [
    "# 7. BIC Model"
   ]
  },
  {
   "cell_type": "code",
   "execution_count": 47,
   "id": "e321ba4c-1d6d-4870-a6cd-e2719340078a",
   "metadata": {},
   "outputs": [
    {
     "name": "stdout",
     "output_type": "stream",
     "text": [
      "Optimization terminated successfully.\n",
      "         Current function value: 0.599559\n",
      "         Iterations 7\n",
      "                           Logit Regression Results                           \n",
      "==============================================================================\n",
      "Dep. Variable:                 cardio   No. Observations:                49000\n",
      "Model:                          Logit   Df Residuals:                    48984\n",
      "Method:                           MLE   Df Model:                           15\n",
      "Date:                Wed, 01 May 2024   Pseudo R-squ.:                  0.1350\n",
      "Time:                        16:01:18   Log-Likelihood:                -29378.\n",
      "converged:                       True   LL-Null:                       -33964.\n",
      "Covariance Type:            nonrobust   LLR p-value:                     0.000\n",
      "=================================================================================\n",
      "                    coef    std err          z      P>|z|      [0.025      0.975]\n",
      "---------------------------------------------------------------------------------\n",
      "const            -6.8177      0.396    -17.226      0.000      -7.593      -6.042\n",
      "id              1.31e-08   3.44e-07      0.038      0.970   -6.61e-07    6.87e-07\n",
      "age               0.0543      0.002     35.389      0.000       0.051       0.057\n",
      "height           -0.0101      0.002     -4.316      0.000      -0.015      -0.006\n",
      "weight            0.0186      0.002     10.186      0.000       0.015       0.022\n",
      "ap_hi             0.0349      0.001     49.939      0.000       0.033       0.036\n",
      "ap_lo             0.0003    7.1e-05      3.726      0.000       0.000       0.000\n",
      "smoke            -0.1232      0.039     -3.142      0.002      -0.200      -0.046\n",
      "alco             -0.1990      0.047     -4.215      0.000      -0.292      -0.106\n",
      "active           -0.1885      0.025     -7.552      0.000      -0.237      -0.140\n",
      "BMI              -0.0082      0.004     -1.962      0.050      -0.016   -1.05e-05\n",
      "gender_2          0.0295      0.025      1.172      0.241      -0.020       0.079\n",
      "cholesterol_2     0.4420      0.031     14.457      0.000       0.382       0.502\n",
      "cholesterol_3     1.1541      0.041     28.218      0.000       1.074       1.234\n",
      "gluc_2            0.0389      0.041      0.955      0.340      -0.041       0.119\n",
      "gluc_3           -0.3275      0.045     -7.200      0.000      -0.417      -0.238\n",
      "=================================================================================\n",
      "BIC for the model: 58929.59441206112\n"
     ]
    }
   ],
   "source": [
    "# change Bool to Int\n",
    "bool_cols = ['gender_2', 'cholesterol_2', 'cholesterol_3', 'gluc_2', 'gluc_3']\n",
    "X_train_sm[bool_cols] = X_train_sm[bool_cols].astype(int)\n",
    "logit_model = sm.Logit(y_train, X_train_sm)\n",
    "result = logit_model.fit()\n",
    "print(result.summary())\n",
    "print(\"BIC for the model:\", result_np.bic)"
   ]
  },
  {
   "cell_type": "markdown",
   "id": "54ae4197-f7b1-4a1f-80a4-3908ed2e909e",
   "metadata": {},
   "source": [
    "In the case, the AIC is 58788.80 and the BIC is 58929.59. Both are close, but the BIC is higher, indicating that the model may be too complex after accounting for sample size. According to your specific needs (such as sample size, model usage, etc.), choose a more suitable indicator for model selection. If the purpose of the model is to explain and understand the relationship between variables, BIC is preferred when the sample size is large; if the purpose of the model is prediction and you are more tolerant of model complexity, you can consider AIC."
   ]
  },
  {
   "cell_type": "code",
   "execution_count": null,
   "id": "40a69595-d43f-474d-aee5-67efc94f2005",
   "metadata": {},
   "outputs": [],
   "source": []
  }
 ],
 "metadata": {
  "kernelspec": {
   "display_name": "Python 3 (ipykernel)",
   "language": "python",
   "name": "python3"
  },
  "language_info": {
   "codemirror_mode": {
    "name": "ipython",
    "version": 3
   },
   "file_extension": ".py",
   "mimetype": "text/x-python",
   "name": "python",
   "nbconvert_exporter": "python",
   "pygments_lexer": "ipython3",
   "version": "3.11.3"
  }
 },
 "nbformat": 4,
 "nbformat_minor": 5
}
